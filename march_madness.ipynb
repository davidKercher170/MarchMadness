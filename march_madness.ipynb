{
 "cells": [
  {
   "cell_type": "code",
   "execution_count": 3,
   "metadata": {},
   "outputs": [],
   "source": [
    "import numpy as np\n",
    "import cbbpy.mens_scraper as s"
   ]
  },
  {
   "cell_type": "code",
   "execution_count": 4,
   "metadata": {},
   "outputs": [
    {
     "name": "stderr",
     "output_type": "stream",
     "text": [
      "No games on 05/01/24: 100%|██████████| 183 of 183 days scraped in 679.9 sec          \n"
     ]
    }
   ],
   "source": [
    "games = s.get_games_season(2024) # Get Game Data"
   ]
  },
  {
   "cell_type": "code",
   "execution_count": 132,
   "metadata": {},
   "outputs": [
    {
     "name": "stdout",
     "output_type": "stream",
     "text": [
      "game_id                     401641104\n",
      "home_team         Cincinnati Bearcats\n",
      "home_id                          2132\n",
      "home_rank                         NaN\n",
      "home_record                     21-14\n",
      "home_score                         73\n",
      "away_team          San Francisco Dons\n",
      "away_id                          2539\n",
      "away_rank                         NaN\n",
      "away_record                     23-11\n",
      "away_score                         72\n",
      "home_win                         True\n",
      "num_ots                             1\n",
      "is_conference                   False\n",
      "is_neutral                      False\n",
      "is_postseason                    True\n",
      "tournament            NIT - 1st Round\n",
      "game_day               March 20, 2024\n",
      "game_time                06:00 PM PDT\n",
      "game_loc               Cincinnati, OH\n",
      "arena               Fifth Third Arena\n",
      "arena_capacity                    NaN\n",
      "attendance                       3899\n",
      "tv_network                      ESPN+\n",
      "referee_1                Craig Murley\n",
      "referee_2                Shane Staggs\n",
      "referee_3          Alexander Thompson\n",
      "Name: 6143, dtype: object\n"
     ]
    }
   ],
   "source": [
    "print(games[0].iloc[-100]) # Game Entry"
   ]
  },
  {
   "cell_type": "code",
   "execution_count": 105,
   "metadata": {},
   "outputs": [],
   "source": [
    "# Create and Enumerate List of Keys (Team Names)\n",
    "\n",
    "teams = []\n",
    "\n",
    "with open('2023.txt') as f:\n",
    "    lines = f.readlines()\n",
    "\n",
    "for l in lines:\n",
    "    d = l.split(\",\") # \"year\",\"month\",\"day\",\"team\",\"opponent\",\"location\",\"teamscore\",\"oppscore\",\"canceled\",\"postponed\",\"OT\",\"D1\"\n",
    "    \n",
    "    t1 = d[3]\n",
    "    t2 = d[4]\n",
    "\n",
    "    # Add Teams that are not in the Network\n",
    "    if t1 not in teams:\n",
    "        teams.append(t1)\n",
    "\n",
    "    if t2 not in teams:\n",
    "        teams.append(t2)\n",
    "\n",
    "num_teams = len(teams) # Number of Teams\n",
    "team_index = {}\n",
    "index_team = {}\n",
    "n = np.zeros((num_teams,num_teams)) # Initialize Adjacency Matrix - Used Later On\n",
    "\n",
    "## Enumerate\n",
    "for count, team in enumerate(teams):\n",
    "    team_index[team]=count\n",
    "    index_team[count] = team"
   ]
  },
  {
   "cell_type": "code",
   "execution_count": 155,
   "metadata": {},
   "outputs": [
    {
     "name": "stdout",
     "output_type": "stream",
     "text": [
      "\"A&M-Corpus Christi\": 0\n",
      "\"Mississippi St.\": 1\n",
      "\"UTSA\": 2\n",
      "\"Trinity (TX)\": 3\n",
      "\"UTRGV\": 4\n",
      "\"CSU Bakersfield\": 5\n",
      "\"Alcorn\": 6\n",
      "\"UTEP\": 7\n",
      "\"Texas Lutheran\": 8\n",
      "\"Arizona\": 9\n"
     ]
    }
   ],
   "source": [
    "# Print 10 Keys, Values from within team_index\n",
    "for key in list(team_index.keys())[:10]:\n",
    "    print(key + \": \" + str(team_index[key]))"
   ]
  },
  {
   "cell_type": "code",
   "execution_count": 133,
   "metadata": {},
   "outputs": [],
   "source": [
    "with open('2023.txt') as f:\n",
    "    lines = f.readlines()\n",
    "\n",
    "for l in lines:\n",
    "    d = l.split(\",\")\n",
    "    t1 = d[3]\n",
    "    t2 = d[4]\n",
    "\n",
    "    # Team Indices in Adjacency Matrix\n",
    "    i1 = team_index[t1]\n",
    "    i2 = team_index[t2]\n",
    "\n",
    "    # Compute Value\n",
    "    try:\n",
    "        if d[6] > d[7]:\n",
    "            n[i1][i2] += max(float(d[6]) / float(d[7]) - 1, 1) # Max Value of 1\n",
    "        else:\n",
    "            n[i2][i1] += max(float(d[7]) / float(d[6]) - 1, 1) # Max Value of 1\n",
    "    except Exception:\n",
    "        continue"
   ]
  },
  {
   "cell_type": "code",
   "execution_count": 146,
   "metadata": {},
   "outputs": [],
   "source": [
    "# Degree Centrality\n",
    "def degree_centrality(n):\n",
    "    d = [sum(n[i]) for i in range(num_teams)]\n",
    "    sort_index = np.argsort(d)\n",
    "    return sort_index\n",
    "\n",
    "# Power Series Iteration Centrality\n",
    "def pr(n, alpha=0.85):\n",
    "    d = [sum(n.T[i]) for i in range(num_teams)] # degree centrality\n",
    "    D = np.identity(num_teams) # Identity Matrix\n",
    "\n",
    "    # Normalize Each Row i of D for the total sum of Row i\n",
    "    for i in range(num_teams):\n",
    "        if d[i] != 0: D[i][i] = 1/d[i]\n",
    "    \n",
    "    P = n@D\n",
    "    e = np.ones(num_teams)/num_teams # ones vector\n",
    "    x = np.zeros(num_teams) # zero vector\n",
    "    P = alpha*P\n",
    "    P1 = np.copy(P)\n",
    "\n",
    "    # Iterate - Series Converges at 5 Terms\n",
    "    for k in range(5):\n",
    "        P = P1 @ P\n",
    "        x += P@e\n",
    "\n",
    "    sort_index = np.argsort(x) # Sort Arguments by Value\n",
    "    return sort_index"
   ]
  },
  {
   "cell_type": "code",
   "execution_count": 147,
   "metadata": {},
   "outputs": [
    {
     "name": "stdout",
     "output_type": "stream",
     "text": [
      "1: \"Guilford\"\n",
      "2: \"Kansas\"\n",
      "3: \"Purdue\"\n",
      "4: \"Tennessee\"\n",
      "5: \"Alabama\"\n",
      "6: \"Texas\"\n",
      "7: \"UCLA\"\n",
      "8: \"Kansas St.\"\n",
      "9: \"Houston\"\n",
      "10: \"Baylor\"\n",
      "11: \"Texas A&M\"\n",
      "12: \"UConn\"\n",
      "13: \"Saint Mary's (CA)\"\n",
      "14: \"Duke\"\n",
      "15: \"Iowa St.\"\n",
      "16: \"Arizona\"\n",
      "17: \"Marquette\"\n",
      "18: \"Indiana\"\n",
      "19: \"Kentucky\"\n",
      "20: \"San Diego St.\"\n",
      "21: \"Miami (FL)\"\n",
      "22: \"Arkansas\"\n",
      "23: \"Boise St.\"\n",
      "24: \"VCU\"\n",
      "25: \"Maryland\"\n"
     ]
    }
   ],
   "source": [
    "# alpha = 0.9\n",
    "s = pr(n, alpha=0.9)\n",
    "for i in range(25):\n",
    "    print(str(1+i) + \": \" + str(index_team[s[-i]]))"
   ]
  },
  {
   "cell_type": "code",
   "execution_count": 148,
   "metadata": {},
   "outputs": [
    {
     "name": "stdout",
     "output_type": "stream",
     "text": [
      "1: \"Guilford\"\n",
      "2: \"Kansas\"\n",
      "3: \"Purdue\"\n",
      "4: \"Tennessee\"\n",
      "5: \"Alabama\"\n",
      "6: \"Texas\"\n",
      "7: \"UCLA\"\n",
      "8: \"Kansas St.\"\n",
      "9: \"Houston\"\n",
      "10: \"Baylor\"\n",
      "11: \"Texas A&M\"\n",
      "12: \"UConn\"\n",
      "13: \"Saint Mary's (CA)\"\n",
      "14: \"Duke\"\n",
      "15: \"Iowa St.\"\n",
      "16: \"Arizona\"\n",
      "17: \"Marquette\"\n",
      "18: \"Indiana\"\n",
      "19: \"Kentucky\"\n",
      "20: \"San Diego St.\"\n",
      "21: \"Miami (FL)\"\n",
      "22: \"Arkansas\"\n",
      "23: \"Boise St.\"\n",
      "24: \"VCU\"\n",
      "25: \"Maryland\"\n"
     ]
    }
   ],
   "source": [
    "# alpha = 0.85\n",
    "s = pr(n)\n",
    "for i in range(25):\n",
    "    print(str(1+i) + \": \" + str(index_team[s[-i]]))"
   ]
  },
  {
   "cell_type": "code",
   "execution_count": 143,
   "metadata": {},
   "outputs": [
    {
     "name": "stdout",
     "output_type": "stream",
     "text": [
      "1: \"Ouachita Baptist\"\n",
      "2: \"Alabama\"\n",
      "3: \"Saint Mary's (CA)\"\n",
      "4: \"Houston\"\n",
      "5: \"Kansas\"\n",
      "6: \"Tennessee\"\n",
      "7: \"San Diego St.\"\n",
      "8: \"Purdue\"\n",
      "9: \"Gonzaga\"\n",
      "10: \"Utah St.\"\n",
      "11: \"Boise St.\"\n",
      "12: \"Arizona\"\n",
      "13: \"Nevada\"\n",
      "14: \"Arkansas\"\n",
      "15: \"New Mexico\"\n",
      "16: \"Baylor\"\n",
      "17: \"Indiana\"\n",
      "18: \"Texas\"\n",
      "19: \"Hofstra\"\n",
      "20: \"Fla. Atlantic\"\n",
      "21: \"UCLA\"\n",
      "22: \"Iowa St.\"\n",
      "23: \"Kentucky\"\n",
      "24: \"UConn\"\n",
      "25: \"Kansas St.\"\n"
     ]
    }
   ],
   "source": [
    "# alpha = 0.65\n",
    "s = pr(n, alpha=0.65)\n",
    "for i in range(25):\n",
    "    print(str(1+i) + \": \" + str(index_team[s[-i]]))"
   ]
  },
  {
   "cell_type": "code",
   "execution_count": 144,
   "metadata": {},
   "outputs": [
    {
     "name": "stdout",
     "output_type": "stream",
     "text": [
      "1: \"Miami-Hamilton\"\n",
      "2: \"Saint Mary's (CA)\"\n",
      "3: \"Houston\"\n",
      "4: \"Alabama\"\n",
      "5: \"Utah St.\"\n",
      "6: \"San Diego St.\"\n",
      "7: \"Gonzaga\"\n",
      "8: \"Fla. Atlantic\"\n",
      "9: \"Hofstra\"\n",
      "10: \"New Mexico\"\n",
      "11: \"Kansas\"\n",
      "12: \"Tennessee\"\n",
      "13: \"Purdue\"\n",
      "14: \"Nevada\"\n",
      "15: \"Boise St.\"\n",
      "16: \"Arkansas\"\n",
      "17: \"Indiana\"\n",
      "18: \"Arizona\"\n",
      "19: \"Liberty\"\n",
      "20: \"Louisiana\"\n"
     ]
    }
   ],
   "source": [
    "# 0.25\n",
    "s = pr(n, alpha=0.25)\n",
    "for i in range(20):\n",
    "    print(str(i+1) + \": \" + str(index_team[s[-i]]))"
   ]
  },
  {
   "cell_type": "code",
   "execution_count": 145,
   "metadata": {},
   "outputs": [
    {
     "name": "stdout",
     "output_type": "stream",
     "text": [
      "1: \"Academy of Art\"\n",
      "2: \"Houston\"\n",
      "3: \"Col. of Charleston\"\n",
      "4: \"Tennessee\"\n",
      "5: \"UCLA\"\n",
      "6: \"Texas\"\n",
      "7: \"Saint Mary's (CA)\"\n",
      "8: \"Marquette\"\n",
      "9: \"Purdue\"\n",
      "10: \"Drake\"\n",
      "11: \"Iona\"\n",
      "12: \"Bradley\"\n",
      "13: \"North Texas\"\n",
      "14: \"Duke\"\n",
      "15: \"Kansas\"\n",
      "16: \"Fla. Atlantic\"\n",
      "17: \"UConn\"\n",
      "18: \"Liberty\"\n",
      "19: \"VCU\"\n",
      "20: \"Hofstra\"\n"
     ]
    }
   ],
   "source": [
    "s = degree_centrality(n)\n",
    "for i in range(20):\n",
    "    print(str(i+1) + \": \" + str(index_team[s[-i]]))"
   ]
  }
 ],
 "metadata": {
  "kernelspec": {
   "display_name": ".venv",
   "language": "python",
   "name": "python3"
  },
  "language_info": {
   "codemirror_mode": {
    "name": "ipython",
    "version": 3
   },
   "file_extension": ".py",
   "mimetype": "text/x-python",
   "name": "python",
   "nbconvert_exporter": "python",
   "pygments_lexer": "ipython3",
   "version": "3.9.12"
  },
  "orig_nbformat": 4,
  "vscode": {
   "interpreter": {
    "hash": "858f8e6c2a9fe85df7942a83e98d62ec1c1d931809e96502bf61c738646c989c"
   }
  }
 },
 "nbformat": 4,
 "nbformat_minor": 2
}
